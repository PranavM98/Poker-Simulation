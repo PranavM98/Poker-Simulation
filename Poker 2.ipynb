{
 "cells": [
  {
   "cell_type": "code",
   "execution_count": 1,
   "metadata": {},
   "outputs": [],
   "source": [
    "\n",
    "def value_from_letter(letter):\n",
    "    val_dictionary = {'A':14,'K':13,'Q':12,'J':11,'a':14,'k':13,'q':12,'j':11}\n",
    "    if letter in val_dictionary:\n",
    "        return val_dictionary[letter]\n",
    "\n",
    "\n",
    "def check_suit(s):\n",
    "    suit=['s','h','d','c','?']\n",
    "\n",
    "    if isinstance(s,str):\n",
    "\n",
    "        if s in suit:\n",
    "            return s\n",
    "        elif s is None:\n",
    "            return '?'\n",
    "        else:\n",
    "            raise ValueError(\"Invalid Suit: {}\".format(s))\n",
    "    else:\n",
    "        raise ValueError(\"Invalid Suit: {}\".format(s))\n",
    "\n",
    "def check_value(val):\n",
    "\n",
    "    if val>=2 and val<=14:\n",
    "        return True\n",
    "    elif val==0:\n",
    "        return True\n",
    "    else:\n",
    "        raise ValueError(\"Invalid Value: {}\".format(val))\n",
    "\n",
    "\n",
    "def letter_from_value(value):\n",
    "    val_dictionary = {'A':14,'K':13,'Q':12,'J':11}\n",
    "    if value ==0:\n",
    "        return '?'\n",
    "    if value<10:\n",
    "        return str(value)\n",
    "    elif value==10:\n",
    "        return '0'\n",
    "    else:\n",
    "        for key,v in val_dictionary.items():\n",
    "            if v==value:\n",
    "                return key\n",
    "\n",
    "def suit_ranking(s1,s2):\n",
    "    s_rank=['c','d','h','s']\n",
    "    if s_rank.index(s1)<s_rank.index(s2):\n",
    "        return True\n",
    "    else:\n",
    "        return False\n",
    "\n",
    "\n",
    "def list_card():\n",
    "    lst=[]\n",
    "    for i in ['2','3','4','5','6','7','8','9','0','J','Q','K','A']:\n",
    "        for j in ['c','d','h','s']:\n",
    "            lst.append(Card(i,j))\n",
    "    return lst\n",
    "\n",
    "def card_from_num(index):\n",
    "    lst=list_card()\n",
    "    return lst[index]\n",
    "\n",
    "\n",
    "\n",
    "class Card:\n",
    "\n",
    "    ''' A Class to represent a card with a value and suit'''\n",
    "\n",
    "    def __init__(self,letter='?',suit='?'):\n",
    "        if letter is '?' and suit is '?':\n",
    "            self.value= 0\n",
    "            self.suit = '?'\n",
    "\n",
    "        elif letter is '?':\n",
    "            raise ValueError(\"Invalid Value: {}\".format(letter))\n",
    "        elif suit is '?':\n",
    "            raise ValueError(\"Invalid Suit: {}\".format(suit))\n",
    "        else:\n",
    "            if letter is None:\n",
    "                raise ValueError(\"Invalid Value: {}\".format(letter))\n",
    "            if isinstance(letter,int) or isinstance(letter,float):\n",
    "                    raise ValueError(\"Invalid Value: {}\".format(letter))\n",
    "            elif letter.isdigit() and len(letter)==1:\n",
    "                if int(letter)==0:\n",
    "                    self.value=10\n",
    "                elif check_value(int(letter)):\n",
    "                    self.value=int(letter)\n",
    "\n",
    "            elif letter in ['K','Q','J','A']:\n",
    "                self.value=value_from_letter(letter)\n",
    "            else:\n",
    "                raise ValueError(\"Invalid Value: {}\".format(letter))\n",
    "\n",
    "            self.suit=check_suit(suit)\n",
    "\n",
    "    def __str__(self):\n",
    "        return('{}{}'.format(letter_from_value(self.value),self.suit))\n",
    "\n",
    "    def __repr__(self):\n",
    "        return('Card({}{})'.format(letter_from_value(self.value),self.suit))\n",
    "\n",
    "    def __eq__(self,other):\n",
    "        if self.value == other.value and self.suit == other.suit:\n",
    "            return True\n",
    "        else:\n",
    "            return False\n",
    "\n",
    "    def __lt__(self,other):\n",
    "        if self.value==other.value:\n",
    "            return suit_ranking(self.suit, other.suit)\n",
    "        elif self.value<other.value:\n",
    "            return True\n",
    "        else:\n",
    "            return False\n",
    "\n",
    "    def is_valid(self):\n",
    "        if check_value(self.value) and check_suit(self.suit):\n",
    "            return True\n",
    "        else:\n",
    "            return False"
   ]
  },
  {
   "cell_type": "code",
   "execution_count": 2,
   "metadata": {},
   "outputs": [],
   "source": [
    "#from card import Card, card_from_num\n",
    "import random\n",
    "\n",
    "\n",
    "class Deck:\n",
    "    ''' Class to define the Deck.'''\n",
    "\n",
    "    def __init__(self):\n",
    "        self.cards=[]\n",
    "        pass\n",
    "    def __str__(self):\n",
    "        s=\"\"\n",
    "        for i in self.cards:\n",
    "            if i ==self.cards[-1]:\n",
    "                s=s+i.__str__()\n",
    "            else:\n",
    "                s=s+i.__str__()+\" \"\n",
    "        return s\n",
    "\n",
    "    def __repr__(self):\n",
    "        s=\"Deck(\"\n",
    "        for i in self.cards:\n",
    "            if i ==self.cards[-1]:\n",
    "                s=s+i.__str__()\n",
    "            else:\n",
    "                s=s+i.__str__()+\" \"\n",
    "        s=s+')'\n",
    "        return s\n",
    "\n",
    "\n",
    "\n",
    "    def add_card(self, c):\n",
    "        self.cards.append(c)\n",
    "        pass\n",
    "\n",
    "\n",
    "    def add_empty_card(self):\n",
    "        self.cards.append(Card('?','?'))\n",
    "        return self.cards[-1]\n",
    "        pass\n",
    "\n",
    "\n",
    "    def contains(self, c):\n",
    "        flag=0\n",
    "        for i in self.cards:\n",
    "            if i.__eq__(c):\n",
    "                flag=1\n",
    "                break\n",
    "        if flag ==1:\n",
    "            return True\n",
    "        else:\n",
    "            return False\n",
    "\n",
    "        pass\n",
    "\n",
    "\n",
    "    def shuffle(self):\n",
    "        return random.shuffle(self.cards)\n",
    "\n",
    "        pass\n",
    "\n",
    "\n",
    "    def assert_full(self):\n",
    "        lst=[]\n",
    "        for i in self.cards:\n",
    "            if i in lst:\n",
    "                assert i in lst==True, \"Repetition in the Deck\"\n",
    "            else:\n",
    "                lst.append(i)\n",
    "        assert len(self.cards)==52, \"There should be 52 cards in a deck\"\n",
    "        pass\n",
    "\n",
    "    # takes card from from deck, appends it to end, and returns it\n",
    "    def draw(self):\n",
    "        c=self.cards[0]\n",
    "        self.cards.pop(0)\n",
    "        self.cards.append(c)\n",
    "        return c\n",
    "        pass\n",
    "\n",
    "    # sorts high to low\n",
    "    def sort(self):\n",
    "        return self.cards.sort(reverse=True)\n",
    "\n",
    "    pass\n",
    "\n",
    "# builds and returns complete deck except for cards in hands\n",
    "def build_remaining_deck(hands):\n",
    "    answer_deck=Deck()\n",
    "    for i in range(0,52):\n",
    "        answer_deck.add_card(card_from_num(i))\n",
    "\n",
    "    for h in hands:\n",
    "        for c in h.cards:\n",
    "            if answer_deck.contains(c):\n",
    "                answer_deck.cards.remove(c)\n",
    "    return answer_deck"
   ]
  },
  {
   "cell_type": "code",
   "execution_count": null,
   "metadata": {},
   "outputs": [],
   "source": [
    "#from deck import Deck\n",
    "#from card import Card, card_from_num\n",
    "class FutureCards:\n",
    "    '''Class for futurecards'''\n",
    "\n",
    "    def __init__(self):\n",
    "        self.future_cards=[]\n",
    "\n",
    "    def __str__(self):\n",
    "        string=''\n",
    "        for i in range(len(self.future_cards)):\n",
    "            for j in range(len(self.future_cards[i].cards)):\n",
    "                c=self.future_cards[i].cards[j]\n",
    "                if j==len(self.future_cards[i].cards)-1:\n",
    "                    string=string+c.__str__()\n",
    "                else:\n",
    "                    string = string+c.__str__()+ \" \"\n",
    "            if i !=len(self.future_cards)-1:\n",
    "                string=string+'\\n'\n",
    "\n",
    "\n",
    "        return(string)\n",
    "        pass\n",
    "\n",
    "\n",
    "    def __repr__(self):\n",
    "        string='FutureCards:\\n'\n",
    "        for i in range(len(self.future_cards)):\n",
    "            head='?'+str(i)+': '\n",
    "            body=''\n",
    "            for j in range(len(self.future_cards[i].cards)):\n",
    "                c=self.future_cards[i].cards[j]\n",
    "                if j==len(self.future_cards[i].cards)-1:\n",
    "                    body=body+c.__str__()\n",
    "                else:\n",
    "                    body = body+c.__str__()+ \" \"\n",
    "\n",
    "            row=head+body\n",
    "            if i == len(self.future_cards)-1:\n",
    "                string=string+row\n",
    "            else:\n",
    "                string=string+row+'\\n'\n",
    "        return(string)\n",
    "        pass\n",
    "\n",
    "    def add_future_card(self,index,card):\n",
    "\n",
    "        if index >= len(self.future_cards):\n",
    "\n",
    "\n",
    "            for i in range((len(self.future_cards)),index+1):\n",
    "                self.future_cards.append(Deck())\n",
    "\n",
    "\n",
    "            self.future_cards[index].add_card(card)\n",
    "\n",
    "        else:\n",
    "            self.future_cards[index].add_card(card)\n",
    "\n",
    "\n",
    "\n",
    "    def future_cards_from_deck(self,d):\n",
    "        for i in range(len(self.future_cards)):\n",
    "            c=d.draw()\n",
    "            for j in range(len(self.future_cards[i].cards)):\n",
    "                self.future_cards[i].cards[j].value=c.value\n",
    "                self.future_cards[i].cards[j].suit=c.suit\n",
    "\n",
    "\n",
    "\n",
    "        #Iterate over deck from range 0 to len(future_cards)\n",
    "        #c=d.draw()\n",
    "        #For i in range 0 to len(Future_Cards)\n",
    "        # for j in range 0 to len(future_cards[i])\n",
    "        #replace all cards with c\n",
    "        pass"
   ]
  },
  {
   "cell_type": "code",
   "execution_count": null,
   "metadata": {},
   "outputs": [],
   "source": []
  },
  {
   "cell_type": "markdown",
   "metadata": {},
   "source": [
    "     - find_secondary_pair function, which takes a hand, dictionary returned\n",
    "    by count_values, and card value as parameters and looks for a\n",
    "    secondary pair. If a pair exists that is not the passed-in card\n",
    "    value, the function should return the index where the second pair\n",
    "    occurs in the hand; otherwise, it should return -1.\n"
   ]
  },
  {
   "cell_type": "code",
   "execution_count": null,
   "metadata": {},
   "outputs": [],
   "source": [
    "from collections import OrderedDict\n",
    "import numpy as np\n",
    "\n",
    "\n",
    "def find_flush(hand):\n",
    "    d_suit={}\n",
    "    for card in hand.cards:\n",
    "        if card.suit in d_suit:\n",
    "            d_suit[card.suit] += 1\n",
    "        else:\n",
    "            d_suit[card.suit] =1 \n",
    "    #print(d_suit)\n",
    "    for i,d in d_suit.items():\n",
    "        if d==5:\n",
    "            return i\n",
    "        else:\n",
    "            return None\n",
    "\n",
    "        "
   ]
  },
  {
   "cell_type": "code",
   "execution_count": null,
   "metadata": {},
   "outputs": [],
   "source": [
    "d=Deck()\n",
    "d.add_card(Card('2','s'))\n",
    "d.add_card(Card('5','s'))\n",
    "d.add_card(Card('2','d'))\n",
    "d.add_card(Card('2','c'))\n",
    "d.add_card(Card('0','h'))\n",
    "d.add_card(Card('9','s'))\n",
    "d.add_card(Card('6','d'))\n",
    "d.add_card(Card('A','s'))\n"
   ]
  },
  {
   "cell_type": "code",
   "execution_count": null,
   "metadata": {},
   "outputs": [],
   "source": [
    "def count_values(hand):\n",
    "    d_value={}\n",
    "    for card in hand.cards:\n",
    "        if card.value in d_value:\n",
    "            d_value[card.value] += 1\n",
    "        else:\n",
    "            d_value[card.value] =1\n",
    "    d_value=dict(sorted(d_value.items()))\n",
    "    \n",
    "\n",
    "    return d_value"
   ]
  },
  {
   "cell_type": "code",
   "execution_count": null,
   "metadata": {},
   "outputs": [],
   "source": [
    "def get_max_count(hand,d):\n",
    "    lst=[]\n",
    "    for k,v in d.items():\n",
    "        max_v=v\n",
    "        break\n",
    "        \n",
    "    for k,v in d.items():\n",
    "        if max_v ==v:\n",
    "            lst.append(k)\n",
    "\n",
    "    max_k=max(lst)\n",
    "    m=(max_k,max_v)\n",
    "    return m\n",
    "    "
   ]
  },
  {
   "cell_type": "code",
   "execution_count": 199,
   "metadata": {},
   "outputs": [],
   "source": [
    "def find_secondary_pair(hand,d,val):\n",
    "    for i in range(len(hand.cards)):\n",
    "        if hand.cards[i].value!=val:\n",
    "            index=i\n",
    "                \n",
    "            if hand.cards[i+1].value==hand.cards[i].value:\n",
    "                return index\n",
    "            \n",
    "            if len(hand.cards)-1==i+1:\n",
    "                break\n",
    "    \n",
    "    return -1\n",
    "            "
   ]
  },
  {
   "cell_type": "code",
   "execution_count": null,
   "metadata": {},
   "outputs": [],
   "source": [
    "#print(max_l)\n",
    "def get_kind_index(hand,value):\n",
    "    for i in range(len(hand.cards)):\n",
    "        if value==hand.cards[i].value:\n",
    "            return i\n",
    "\n",
    "\n",
    "        \n",
    "        "
   ]
  },
  {
   "cell_type": "code",
   "execution_count": null,
   "metadata": {},
   "outputs": [],
   "source": [
    "def build_of_a_kind(hand,n, ind):\n",
    "    d=Deck()\n",
    "    for i in range(ind,ind+n):\n",
    "        d.add_card(hand.cards[i])\n",
    "    \n",
    "    for i in range(len(hand.cards)):\n",
    "        if hand.cards[i].value!=d.cards[0].value:\n",
    "            d.add_card(hand.cards[i])\n",
    "            if len(d.cards)==5:\n",
    "                break\n",
    "    return d\n",
    "   \n",
    "    "
   ]
  },
  {
   "cell_type": "code",
   "execution_count": null,
   "metadata": {},
   "outputs": [],
   "source": [
    "def add_pair(hand,ind_s,ans_deck,ind_a):\n",
    "    \n",
    "    #Full House\n",
    "    if ind_a == 3:\n",
    "        for i in range(ind_s,ind_s+2):\n",
    "            for j in range(ind_a,ind_a+2):\n",
    "                ans_deck.cards[j]=hand.cards[i]\n",
    "                ind_a += 1\n",
    "                break\n",
    "    \n",
    "    if ind_a ==2:\n",
    "        for i in range(ind_s,ind_s+2):\n",
    "            for j in range(ind_a,ind_a+2):\n",
    "                ans_deck.cards[j]=hand.cards[i]\n",
    "                ind_a += 1\n",
    "                break\n",
    "        \n",
    "        for i in range(len(hand.cards)):\n",
    "\n",
    "            if hand.cards[i].value != ans_deck.cards[0].value and hand.cards[i].value != ans_deck.cards[2].value:\n",
    "                ans_deck.cards[len(ans_deck.cards)-1]=hand.cards[i]\n",
    "                break\n",
    "\n",
    "    return ans_deck"
   ]
  },
  {
   "cell_type": "code",
   "execution_count": null,
   "metadata": {},
   "outputs": [],
   "source": [
    "    \n",
    "def is_straight_at(hand,ind,s):\n",
    "    lst=[]\n",
    "    if s is None:\n",
    "        start=hand.cards[ind].value\n",
    "        count=1\n",
    "        for i in range(ind+1,len(hand.cards)):\n",
    "            if hand.cards[i].value != start:\n",
    "                if hand.cards[i].value == start-1:\n",
    "                    count += 1\n",
    "                    start=hand.cards[i].value\n",
    "\n",
    "\n",
    "        #straight    \n",
    "        if count==5:\n",
    "            return 1\n",
    "\n",
    "        #ace low straight\n",
    "        \n",
    "        elif count==4:\n",
    "            lst=[]\n",
    "            for i in hand.cards:\n",
    "                    lst.append(i.value)\n",
    "         \n",
    "            if 14 in lst and 2 in lst and 3 in lst and 4 in lst and 5 in lst:\n",
    "                return -1\n",
    "        else:\n",
    "            return 0\n",
    "    else:\n",
    "        start=hand.cards[ind].value\n",
    "        start_s=hand.cards[ind].suit\n",
    "        count=1\n",
    "        for i in range(ind+1,len(hand.cards)):\n",
    "            if hand.cards[i].value != start:\n",
    "                if hand.cards[i].value == start-1 and hand.cards[i].suit == start_s:\n",
    "                    count += 1\n",
    "                    start=hand.cards[i].value\n",
    "        if count ==5:\n",
    "            return 1\n",
    "        \n",
    "        \n",
    "        elif count == 4:\n",
    "            lst=[]\n",
    "            \n",
    "            #ACE\n",
    "            if hand.cards[0].suit==s:\n",
    "                for i in hand.cards:\n",
    "                    lst.append(i.value)\n",
    "            \n",
    "            \n",
    "            if 14 in lst and 2 in lst and 3 in lst and 4 in lst and 5 in lst:\n",
    "                return -1\n",
    "            \n",
    "        else:\n",
    "            return 0"
   ]
  },
  {
   "cell_type": "code",
   "execution_count": 200,
   "metadata": {},
   "outputs": [],
   "source": [
    "        \n",
    "def compare_hands(h1,h2):\n",
    "    h1.sort()\n",
    "    h2.sort()\n",
    "    \n",
    "    t1=evaluate_hand(h1)\n",
    "    t2=evaluate_hand(h2)\n",
    "    \n",
    "    r1=num_from_rank(t1[1])\n",
    "    r2=num_from_rank(t2[1])\n",
    "    \n",
    "    \n",
    "    if r1>r2:\n",
    "        return +1\n",
    "    elif r1<r2:\n",
    "        return -1\n",
    "    else:\n",
    "        return 0"
   ]
  },
  {
   "cell_type": "code",
   "execution_count": 201,
   "metadata": {},
   "outputs": [
    {
     "data": {
      "text/plain": [
       "-1"
      ]
     },
     "execution_count": 201,
     "metadata": {},
     "output_type": "execute_result"
    }
   ],
   "source": [
    "hand=Deck()\n",
    "hand.add_card(Card('A','s'))\n",
    "hand.add_card(Card('A','c'))\n",
    "hand.add_card(Card('Q','c'))\n",
    "hand.add_card(Card('0','s'))\n",
    "hand.add_card(Card('4','s'))\n",
    "hand.add_card(Card('3','s'))\n",
    "hand.add_card(Card('2','s'))\n",
    "\n",
    "hand.sort()\n",
    "d=count_values(hand)\n",
    "find_secondary_pair(hand,d,14)\n",
    "#is_straight_at(hand,3,'s')"
   ]
  },
  {
   "cell_type": "code",
   "execution_count": 145,
   "metadata": {},
   "outputs": [
    {
     "name": "stdout",
     "output_type": "stream",
     "text": [
      "{11: 2, 7: 2, 10: 1, 5: 1, 9: 1}\n",
      "Js Jd 0h 9s 7s 7c 5c\n",
      "Js Jd 7s 7c 0h\n"
     ]
    }
   ],
   "source": [
    "find_flush(hand)\n",
    "d=count_values(hand)\n",
    "print(d)\n",
    "\n",
    "a=get_max_count(hand,d)\n",
    "a\n",
    "\n",
    "i=get_kind_index(hand,13)\n",
    "i\n",
    "\n",
    "print(hand)\n",
    "p=build_of_a_kind(hand,2,0)\n",
    "p\n",
    "\n",
    "q=add_pair(hand,4,p,2)\n",
    "q"
   ]
  },
  {
   "cell_type": "code",
   "execution_count": null,
   "metadata": {},
   "outputs": [],
   "source": [
    "\n"
   ]
  },
  {
   "cell_type": "code",
   "execution_count": null,
   "metadata": {},
   "outputs": [],
   "source": []
  },
  {
   "cell_type": "code",
   "execution_count": null,
   "metadata": {},
   "outputs": [],
   "source": []
  },
  {
   "cell_type": "code",
   "execution_count": null,
   "metadata": {},
   "outputs": [],
   "source": []
  },
  {
   "cell_type": "code",
   "execution_count": null,
   "metadata": {},
   "outputs": [],
   "source": []
  },
  {
   "cell_type": "code",
   "execution_count": 52,
   "metadata": {},
   "outputs": [
    {
     "data": {
      "text/plain": [
       "8"
      ]
     },
     "execution_count": 52,
     "metadata": {},
     "output_type": "execute_result"
    }
   ],
   "source": [
    "a=[1,4,6,4,8]\n",
    "max(a)"
   ]
  },
  {
   "cell_type": "code",
   "execution_count": null,
   "metadata": {},
   "outputs": [],
   "source": []
  },
  {
   "cell_type": "code",
   "execution_count": null,
   "metadata": {},
   "outputs": [],
   "source": []
  },
  {
   "cell_type": "code",
   "execution_count": null,
   "metadata": {},
   "outputs": [],
   "source": []
  },
  {
   "cell_type": "code",
   "execution_count": null,
   "metadata": {},
   "outputs": [],
   "source": []
  },
  {
   "cell_type": "code",
   "execution_count": null,
   "metadata": {},
   "outputs": [],
   "source": []
  },
  {
   "cell_type": "code",
   "execution_count": 4,
   "metadata": {},
   "outputs": [],
   "source": [
    "d=Deck()"
   ]
  },
  {
   "cell_type": "code",
   "execution_count": 5,
   "metadata": {},
   "outputs": [],
   "source": [
    "d.add_card(Card('2','s'))\n",
    "d.add_card(Card('5','s'))\n",
    "d.add_card(Card('2','d'))\n",
    "d.add_card(Card('2','c'))\n",
    "d.add_card(Card('0','h'))\n",
    "d.add_card(Card('9','s'))\n",
    "d.add_card(Card('6','d'))\n",
    "d.add_card(Card('A','s'))\n"
   ]
  },
  {
   "cell_type": "code",
   "execution_count": 44,
   "metadata": {},
   "outputs": [],
   "source": [
    "f_d=build_remaining_deck([d])"
   ]
  },
  {
   "cell_type": "code",
   "execution_count": 45,
   "metadata": {},
   "outputs": [
    {
     "data": {
      "text/plain": [
       "[Card(2h),\n",
       " Card(3c),\n",
       " Card(3d),\n",
       " Card(3h),\n",
       " Card(3s),\n",
       " Card(4c),\n",
       " Card(4d),\n",
       " Card(4h),\n",
       " Card(4s),\n",
       " Card(5c),\n",
       " Card(5d),\n",
       " Card(5h),\n",
       " Card(6c),\n",
       " Card(6h),\n",
       " Card(6s),\n",
       " Card(7c),\n",
       " Card(7d),\n",
       " Card(7h),\n",
       " Card(7s),\n",
       " Card(8c),\n",
       " Card(8d),\n",
       " Card(8h),\n",
       " Card(8s),\n",
       " Card(9c),\n",
       " Card(9d),\n",
       " Card(9h),\n",
       " Card(0c),\n",
       " Card(0d),\n",
       " Card(0s),\n",
       " Card(Jc),\n",
       " Card(Jd),\n",
       " Card(Jh),\n",
       " Card(Js),\n",
       " Card(Qc),\n",
       " Card(Qd),\n",
       " Card(Qh),\n",
       " Card(Qs),\n",
       " Card(Kc),\n",
       " Card(Kd),\n",
       " Card(Kh),\n",
       " Card(Ks),\n",
       " Card(Ac),\n",
       " Card(Ad),\n",
       " Card(Ah)]"
      ]
     },
     "execution_count": 45,
     "metadata": {},
     "output_type": "execute_result"
    }
   ],
   "source": [
    "f_d.cards"
   ]
  },
  {
   "cell_type": "code",
   "execution_count": 46,
   "metadata": {},
   "outputs": [
    {
     "data": {
      "text/plain": [
       "\"\\nd1=Deck()\\nd1.add_card(Card('3','s'))\\nd1.add_card(Card('6','s'))\\nd1.add_card(Card('8','d'))\\nd1.add_card(Card('0','c'))\\nd1.add_card(Card('K','h'))\\nd1.add_card(Card('9','s'))\\nd1.add_card(Card('7','s'))\\nd1.add_card(Card('Q','c'))\""
      ]
     },
     "execution_count": 46,
     "metadata": {},
     "output_type": "execute_result"
    }
   ],
   "source": [
    "'''\n",
    "d1=Deck()\n",
    "d1.add_card(Card('3','s'))\n",
    "d1.add_card(Card('6','s'))\n",
    "d1.add_card(Card('8','d'))\n",
    "d1.add_card(Card('0','c'))\n",
    "d1.add_card(Card('K','h'))\n",
    "d1.add_card(Card('9','s'))\n",
    "d1.add_card(Card('7','s'))\n",
    "d1.add_card(Card('Q','c'))'''"
   ]
  },
  {
   "cell_type": "code",
   "execution_count": 47,
   "metadata": {},
   "outputs": [],
   "source": [
    "f=FutureCards()"
   ]
  },
  {
   "cell_type": "code",
   "execution_count": 12,
   "metadata": {},
   "outputs": [],
   "source": [
    "#INDEX 0: 1, 2\n",
    "#INDEX 1: 3,4\n",
    "for i in range(0,1):\n",
    "    for j in range(1,3):\n",
    "        f.add_future_card(i,d.cards[j])\n",
    "        \n",
    "for i in range(1,2):\n",
    "    for j in range(3,5):\n",
    "        f.add_future_card(i,d.cards[j])\n",
    "        "
   ]
  },
  {
   "cell_type": "code",
   "execution_count": 48,
   "metadata": {},
   "outputs": [
    {
     "data": {
      "text/plain": [
       "Card(6d)"
      ]
     },
     "execution_count": 48,
     "metadata": {},
     "output_type": "execute_result"
    }
   ],
   "source": [
    "        \n",
    "f.add_future_card(0,d.cards[6])"
   ]
  },
  {
   "cell_type": "code",
   "execution_count": 51,
   "metadata": {},
   "outputs": [],
   "source": [
    "f.future_cards[0].add_card(Card())"
   ]
  },
  {
   "cell_type": "code",
   "execution_count": 52,
   "metadata": {},
   "outputs": [
    {
     "data": {
      "text/plain": [
       "[Deck(6d ??)]"
      ]
     },
     "execution_count": 52,
     "metadata": {},
     "output_type": "execute_result"
    }
   ],
   "source": [
    "f.future_cards"
   ]
  },
  {
   "cell_type": "code",
   "execution_count": 15,
   "metadata": {},
   "outputs": [
    {
     "name": "stdout",
     "output_type": "stream",
     "text": [
      "[Card(??), Card(??), Card(??)]\n",
      "[Card(??), Card(??)]\n"
     ]
    }
   ],
   "source": [
    "for i in f.future_cards:\n",
    "    print(i.cards)"
   ]
  },
  {
   "cell_type": "code",
   "execution_count": 16,
   "metadata": {},
   "outputs": [
    {
     "data": {
      "text/plain": [
       "'?? ?? ??\\n?? ??'"
      ]
     },
     "execution_count": 16,
     "metadata": {},
     "output_type": "execute_result"
    }
   ],
   "source": [
    "f.__str__()"
   ]
  },
  {
   "cell_type": "code",
   "execution_count": 37,
   "metadata": {},
   "outputs": [],
   "source": [
    "\n",
    "l=[]\n"
   ]
  },
  {
   "cell_type": "code",
   "execution_count": 38,
   "metadata": {},
   "outputs": [
    {
     "data": {
      "text/plain": [
       "[None]"
      ]
     },
     "execution_count": 38,
     "metadata": {},
     "output_type": "execute_result"
    }
   ],
   "source": [
    "l"
   ]
  },
  {
   "cell_type": "code",
   "execution_count": 17,
   "metadata": {},
   "outputs": [],
   "source": [
    "f.future_cards_from_deck(f_d)"
   ]
  },
  {
   "cell_type": "code",
   "execution_count": 18,
   "metadata": {},
   "outputs": [
    {
     "name": "stdout",
     "output_type": "stream",
     "text": [
      "[Card(2h), Card(2h), Card(2h)]\n",
      "[Card(3c), Card(3c)]\n"
     ]
    }
   ],
   "source": [
    "for i in f.future_cards:\n",
    "    print(i.cards)"
   ]
  },
  {
   "cell_type": "code",
   "execution_count": 19,
   "metadata": {},
   "outputs": [
    {
     "data": {
      "text/plain": [
       "Deck(2s 5s 2d 2c 0h 9s 6d As)"
      ]
     },
     "execution_count": 19,
     "metadata": {},
     "output_type": "execute_result"
    }
   ],
   "source": [
    "d"
   ]
  },
  {
   "cell_type": "code",
   "execution_count": 20,
   "metadata": {},
   "outputs": [
    {
     "data": {
      "text/plain": [
       "[Deck(2h2h2h), Deck(3c3c)]"
      ]
     },
     "execution_count": 20,
     "metadata": {},
     "output_type": "execute_result"
    }
   ],
   "source": [
    "f.future_cards"
   ]
  },
  {
   "cell_type": "code",
   "execution_count": 21,
   "metadata": {},
   "outputs": [
    {
     "data": {
      "text/plain": [
       "'FutureCards:\\n?0: 2h 2h 2h\\n?1: 3c 3c'"
      ]
     },
     "execution_count": 21,
     "metadata": {},
     "output_type": "execute_result"
    }
   ],
   "source": [
    "f.__repr__()"
   ]
  },
  {
   "cell_type": "code",
   "execution_count": 22,
   "metadata": {},
   "outputs": [
    {
     "data": {
      "text/plain": [
       "Deck(3d 3h 3s 4c 4d 4h 4s 5c 5d 5h 6c 6h 6s 7c 7d 7h 7s 8c 8d 8h 8s 9c 9d 9h 0c 0d 0s Jc Jd Jh Js Qc Qd Qh Qs Kc Kd Kh Ks Ac Ad Ah 2h 3c)"
      ]
     },
     "execution_count": 22,
     "metadata": {},
     "output_type": "execute_result"
    }
   ],
   "source": [
    "f_d"
   ]
  },
  {
   "cell_type": "code",
   "execution_count": 23,
   "metadata": {},
   "outputs": [],
   "source": [
    "#d.add_empty_card()"
   ]
  },
  {
   "cell_type": "code",
   "execution_count": 8,
   "metadata": {},
   "outputs": [
    {
     "data": {
      "text/plain": [
       "[Card(2s),\n",
       " Card(5s),\n",
       " Card(2d),\n",
       " Card(2c),\n",
       " Card(0h),\n",
       " Card(9s),\n",
       " Card(6d),\n",
       " Card(As)]"
      ]
     },
     "execution_count": 8,
     "metadata": {},
     "output_type": "execute_result"
    }
   ],
   "source": [
    "d.cards"
   ]
  },
  {
   "cell_type": "code",
   "execution_count": 9,
   "metadata": {},
   "outputs": [
    {
     "data": {
      "text/plain": [
       "True"
      ]
     },
     "execution_count": 9,
     "metadata": {},
     "output_type": "execute_result"
    }
   ],
   "source": [
    "d.contains(Card('2','c'))"
   ]
  },
  {
   "cell_type": "code",
   "execution_count": 10,
   "metadata": {},
   "outputs": [],
   "source": [
    "d.shuffle()"
   ]
  },
  {
   "cell_type": "code",
   "execution_count": 11,
   "metadata": {},
   "outputs": [],
   "source": [
    "d1=d"
   ]
  },
  {
   "cell_type": "code",
   "execution_count": 12,
   "metadata": {},
   "outputs": [
    {
     "data": {
      "text/plain": [
       "Deck(5s 2d As 2c 0h 2s 9s 6d)"
      ]
     },
     "execution_count": 12,
     "metadata": {},
     "output_type": "execute_result"
    }
   ],
   "source": [
    "d1"
   ]
  },
  {
   "cell_type": "code",
   "execution_count": 13,
   "metadata": {},
   "outputs": [
    {
     "data": {
      "text/plain": [
       "Card(5s)"
      ]
     },
     "execution_count": 13,
     "metadata": {},
     "output_type": "execute_result"
    }
   ],
   "source": [
    "d.draw()"
   ]
  },
  {
   "cell_type": "code",
   "execution_count": 14,
   "metadata": {},
   "outputs": [
    {
     "data": {
      "text/plain": [
       "[Card(2d),\n",
       " Card(As),\n",
       " Card(2c),\n",
       " Card(0h),\n",
       " Card(2s),\n",
       " Card(9s),\n",
       " Card(6d),\n",
       " Card(5s)]"
      ]
     },
     "execution_count": 14,
     "metadata": {},
     "output_type": "execute_result"
    }
   ],
   "source": [
    "d.cards"
   ]
  },
  {
   "cell_type": "code",
   "execution_count": 15,
   "metadata": {},
   "outputs": [
    {
     "data": {
      "text/plain": [
       "Card(2d)"
      ]
     },
     "execution_count": 15,
     "metadata": {},
     "output_type": "execute_result"
    }
   ],
   "source": [
    "d.cards[0]"
   ]
  },
  {
   "cell_type": "code",
   "execution_count": 16,
   "metadata": {},
   "outputs": [],
   "source": [
    "d.sort()"
   ]
  },
  {
   "cell_type": "code",
   "execution_count": 17,
   "metadata": {},
   "outputs": [
    {
     "data": {
      "text/plain": [
       "Deck(As 0h 9s 6d 5s 2s 2d 2c)"
      ]
     },
     "execution_count": 17,
     "metadata": {},
     "output_type": "execute_result"
    }
   ],
   "source": [
    "d"
   ]
  },
  {
   "cell_type": "code",
   "execution_count": 18,
   "metadata": {},
   "outputs": [
    {
     "data": {
      "text/plain": [
       "Deck(2h 3c 3d 3h 3s 4c 4d 4h 4s 5c 5d 5h 6c 6h 6s 7c 7d 7h 7s 8c 8d 8h 8s 9c 9d 9h 0c 0d 0s Jc Jd Jh Js Qc Qd Qh Qs Kc Kd Kh Ks Ac Ad Ah)"
      ]
     },
     "execution_count": 18,
     "metadata": {},
     "output_type": "execute_result"
    }
   ],
   "source": [
    "build_remaining_deck([d])"
   ]
  },
  {
   "cell_type": "code",
   "execution_count": null,
   "metadata": {},
   "outputs": [],
   "source": [
    "type([4,5,6,2,3])"
   ]
  },
  {
   "cell_type": "code",
   "execution_count": 584,
   "metadata": {},
   "outputs": [
    {
     "data": {
      "text/plain": [
       "52"
      ]
     },
     "execution_count": 584,
     "metadata": {},
     "output_type": "execute_result"
    }
   ],
   "source": [
    "len(d.cards)"
   ]
  },
  {
   "cell_type": "code",
   "execution_count": null,
   "metadata": {},
   "outputs": [],
   "source": []
  },
  {
   "cell_type": "code",
   "execution_count": 20,
   "metadata": {},
   "outputs": [
    {
     "data": {
      "text/plain": [
       "Deck(As 0h 9s 6d 5s 2s 2d 2c)"
      ]
     },
     "execution_count": 20,
     "metadata": {},
     "output_type": "execute_result"
    }
   ],
   "source": [
    "d"
   ]
  },
  {
   "cell_type": "code",
   "execution_count": null,
   "metadata": {},
   "outputs": [],
   "source": []
  },
  {
   "cell_type": "code",
   "execution_count": null,
   "metadata": {},
   "outputs": [],
   "source": []
  },
  {
   "cell_type": "code",
   "execution_count": null,
   "metadata": {},
   "outputs": [],
   "source": []
  },
  {
   "cell_type": "code",
   "execution_count": null,
   "metadata": {},
   "outputs": [],
   "source": []
  },
  {
   "cell_type": "code",
   "execution_count": null,
   "metadata": {},
   "outputs": [],
   "source": []
  },
  {
   "cell_type": "code",
   "execution_count": null,
   "metadata": {},
   "outputs": [],
   "source": []
  }
 ],
 "metadata": {
  "kernelspec": {
   "display_name": "Python 3",
   "language": "python",
   "name": "python3"
  },
  "language_info": {
   "codemirror_mode": {
    "name": "ipython",
    "version": 3
   },
   "file_extension": ".py",
   "mimetype": "text/x-python",
   "name": "python",
   "nbconvert_exporter": "python",
   "pygments_lexer": "ipython3",
   "version": "3.7.0"
  }
 },
 "nbformat": 4,
 "nbformat_minor": 2
}
